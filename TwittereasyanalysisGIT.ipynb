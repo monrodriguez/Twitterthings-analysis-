{
 "cells": [
  {
   "cell_type": "code",
   "execution_count": 4,
   "metadata": {},
   "outputs": [],
   "source": [
    "import matplotlib.pyplot as plt\n",
    "import pandas as pd\n",
    "\n",
    "plt.style.use('seaborn-whitegrid')\n",
    "import numpy as np"
   ]
  },
  {
   "cell_type": "code",
   "execution_count": 5,
   "metadata": {},
   "outputs": [],
   "source": [
    "folder ='D:XXyourpathtodata/'\n",
    "file='docwithtweets'#.csv\n",
    "file2='docwithtweets2'#.csv"
   ]
  },
  {
   "cell_type": "code",
   "execution_count": 6,
   "metadata": {},
   "outputs": [],
   "source": [
    "dfa = pd.read_csv(folder+file+'.csv')"
   ]
  },
  {
   "cell_type": "code",
   "execution_count": 7,
   "metadata": {},
   "outputs": [],
   "source": [
    "dfa=dfa.drop_duplicates(subset=['tweet_id'])"
   ]
  },
  {
   "cell_type": "code",
   "execution_count": 8,
   "metadata": {},
   "outputs": [
    {
     "data": {
      "text/plain": [
       "45178"
      ]
     },
     "execution_count": 8,
     "metadata": {},
     "output_type": "execute_result"
    }
   ],
   "source": [
    "len(dfa)"
   ]
  },
  {
   "cell_type": "markdown",
   "metadata": {},
   "source": [
    "# Tweets per day"
   ]
  },
  {
   "cell_type": "code",
   "execution_count": 9,
   "metadata": {},
   "outputs": [],
   "source": [
    "dfa.tweet_created_at = pd.to_datetime(dfa['tweet_created_at'])"
   ]
  },
  {
   "cell_type": "code",
   "execution_count": null,
   "metadata": {},
   "outputs": [],
   "source": [
    "print(dfa.dtypes)"
   ]
  },
  {
   "cell_type": "code",
   "execution_count": 11,
   "metadata": {},
   "outputs": [],
   "source": [
    "dfa['just_date'] = dfa['tweet_created_at'].dt.date"
   ]
  },
  {
   "cell_type": "code",
   "execution_count": null,
   "metadata": {},
   "outputs": [],
   "source": [
    "tweetsdate=dfa.groupby([\"just_date\"]).size().sort_values(ascending=False)\n",
    "tweetsdate"
   ]
  },
  {
   "cell_type": "code",
   "execution_count": 13,
   "metadata": {},
   "outputs": [],
   "source": [
    "cmap = ['blue','red','purple','black','green','cyan','orange', 'brown']"
   ]
  },
  {
   "cell_type": "code",
   "execution_count": null,
   "metadata": {},
   "outputs": [],
   "source": [
    "#simple line plot (it saves directly)\n",
    "line=tweetsdate.plot.line(color=cmap, rot=60, style='.-', use_index=True)\n",
    "line.get_figure().savefig(folder+\"tweetsperday.png\")"
   ]
  },
  {
   "cell_type": "markdown",
   "metadata": {},
   "source": [
    "# tweets per language"
   ]
  },
  {
   "cell_type": "code",
   "execution_count": 15,
   "metadata": {},
   "outputs": [],
   "source": [
    "dfcounts=pd.DataFrame({'size' : dfa.groupby(dfa.lang).size()}).reset_index()\n",
    "dfcountsdesc=dfcounts.sort_values('size', ascending=False)\n",
    "dfcountsdesc['labels']=dfcountsdesc['lang']+ ' - '+dfcountsdesc['size'].astype('str')\n",
    "languagetop=dfcountsdesc.head(10)"
   ]
  },
  {
   "cell_type": "code",
   "execution_count": null,
   "metadata": {},
   "outputs": [],
   "source": [
    "languagetop"
   ]
  },
  {
   "cell_type": "code",
   "execution_count": null,
   "metadata": {},
   "outputs": [],
   "source": [
    "#pie for the languages\n",
    "\n",
    "ax=languagetop.plot(kind='pie', y='size', labeldistance=None,  figsize=(7,7))\n",
    "ax.legend(mode='narrow',loc='best', bbox_to_anchor=(1, 1),\n",
    "          title=\"Languages - number of tweets\",\n",
    "          labels=(languagetop.labels))\n",
    "ax.set_ylabel(\"Size of the language\", fontsize=14)\n",
    "ax.set_title('Language of the Tweets',fontsize=18)\n",
    "ax.get_figure().savefig(folder+\"tweetsperlanguage.png\")"
   ]
  },
  {
   "cell_type": "markdown",
   "metadata": {},
   "source": [
    "# Tweets per language and day"
   ]
  },
  {
   "cell_type": "code",
   "execution_count": 18,
   "metadata": {},
   "outputs": [],
   "source": [
    "langdate=pd.DataFrame({'size' : dfa.groupby([\"lang\", \"just_date\"]).size()}).reset_index()\n"
   ]
  },
  {
   "cell_type": "code",
   "execution_count": 19,
   "metadata": {},
   "outputs": [],
   "source": [
    "langdate=langdate.sort_values('size', ascending=False)"
   ]
  },
  {
   "cell_type": "code",
   "execution_count": 20,
   "metadata": {},
   "outputs": [],
   "source": [
    "langdate=langdate.rename(columns={\"lang\": \"Language\", \"just_date\":\"Date\", \"size\":\"Number\"}, errors=\"raise\")"
   ]
  },
  {
   "cell_type": "code",
   "execution_count": null,
   "metadata": {},
   "outputs": [],
   "source": [
    "langdate"
   ]
  },
  {
   "cell_type": "code",
   "execution_count": 22,
   "metadata": {},
   "outputs": [
    {
     "data": {
      "text/plain": [
       "['en', 'und', 'ja', 'qme', 'qht', 'kn', 'cy', 'es', 'ht', 'in']"
      ]
     },
     "execution_count": 22,
     "metadata": {},
     "output_type": "execute_result"
    }
   ],
   "source": [
    "#this is a list of the top languages (in languagetop); but the list can be taylored\n",
    "languages= languagetop.lang.tolist()\n",
    "#languages = ['en', 'es', 'ca', 'fr', 'ja','tr', 'und', 'de']\n",
    "languages"
   ]
  },
  {
   "cell_type": "code",
   "execution_count": 23,
   "metadata": {},
   "outputs": [],
   "source": [
    "#languages = ['en', 'es', 'ca', 'fr', 'ja','tr', 'und', 'de']\n",
    "df3=langdate[langdate['Language'].isin(languages)]"
   ]
  },
  {
   "cell_type": "code",
   "execution_count": 24,
   "metadata": {},
   "outputs": [],
   "source": [
    "df3 = df3.pivot(index='Date', columns='Language', values='Number')"
   ]
  },
  {
   "cell_type": "code",
   "execution_count": 25,
   "metadata": {},
   "outputs": [],
   "source": [
    "cmap = ['blue','red','black','purple','green','cyan','orange', 'brown', 'yellow','grey']"
   ]
  },
  {
   "cell_type": "code",
   "execution_count": null,
   "metadata": {},
   "outputs": [],
   "source": [
    "ax=df3.plot(kind='line', style='o-',   figsize=(10,10))\n",
    "ax.legend(mode='narrow',loc='best', bbox_to_anchor=(1, 1),\n",
    "          title=\"Languages\",\n",
    "          labels=(langdate.Language))\n",
    "ax.set_ylabel(\"Number of tweets\", fontsize=14)\n",
    "ax.set_xlabel(\"Date\", fontsize=14)\n",
    "ax.set_title('Tweets per day and language',fontsize=18)\n",
    "ax.get_figure().savefig(folder+\"tweetsperlanguageday.png\")"
   ]
  },
  {
   "cell_type": "markdown",
   "metadata": {},
   "source": [
    "# User presence analysis (count-users)"
   ]
  },
  {
   "cell_type": "code",
   "execution_count": 27,
   "metadata": {},
   "outputs": [],
   "source": [
    "dfusers= pd.DataFrame({'count' : dfa.groupby( [ \"username\"] ).size().sort_values(ascending=False)}).reset_index()\n",
    "#top n users\n",
    "dfusers.head(20)\n",
    "#filter by number of tweets a user made\n",
    "activeusers=dfusers[dfusers['count'] > 20]"
   ]
  },
  {
   "cell_type": "code",
   "execution_count": null,
   "metadata": {},
   "outputs": [],
   "source": [
    "activeusers"
   ]
  },
  {
   "cell_type": "code",
   "execution_count": null,
   "metadata": {},
   "outputs": [],
   "source": [
    "ax=activeusers.plot.bar(x='username', fontsize=10, y='count', figsize=(10,20))\n",
    "plt.xticks(rotation=60)\n",
    "x_offset = -0.5\n",
    "y_offset = 2\n",
    "ax.set_ylabel(\"Number of tweets\", fontsize=14)\n",
    "ax.set_xlabel(\"User\", fontsize=14)\n",
    "ax.set_title('Tweets per user',fontsize=18)\n",
    "for p in ax.patches:\n",
    "     #ax.annotate(np.round(p.get_height(),decimals=0)\n",
    "    b = p.get_bbox()\n",
    "    val = \"{}\".format(b.y1 + b.y0)      \n",
    "    ax.annotate(np.round(p.get_height(),decimals=0),((b.x1 + b.x1)/2 + x_offset, b.y1 + y_offset))"
   ]
  },
  {
   "cell_type": "markdown",
   "metadata": {},
   "source": [
    "# Count times specific words appear"
   ]
  },
  {
   "cell_type": "code",
   "execution_count": 31,
   "metadata": {},
   "outputs": [],
   "source": [
    "wordlist=['Corbyn',\n",
    "          'Boris Johnson',\n",
    "          'aliens',\n",
    "          'OVNIs',\n",
    "          '#NHS']"
   ]
  },
  {
   "cell_type": "code",
   "execution_count": 32,
   "metadata": {},
   "outputs": [],
   "source": [
    "#general wordcount without date:\n",
    "wordcounts=[]\n",
    "for i in wordlist:\n",
    "    counts = dfa['text'].str.contains(str(i), na=False).sum()\n",
    "    wordcounts.append(counts)"
   ]
  },
  {
   "cell_type": "code",
   "execution_count": 33,
   "metadata": {},
   "outputs": [],
   "source": [
    "numwords=pd.DataFrame(\n",
    "    {'word': wordlist,\n",
    "     'count': wordcounts\n",
    "    })"
   ]
  },
  {
   "cell_type": "code",
   "execution_count": null,
   "metadata": {},
   "outputs": [],
   "source": [
    "numwords=numwords.sort_values(by=['count'], ascending=False)\n",
    "numwords"
   ]
  },
  {
   "cell_type": "code",
   "execution_count": null,
   "metadata": {},
   "outputs": [],
   "source": [
    "ax=numwords.plot.bar(x='word', fontsize=12,rot=60, y='count', color='red', width=0.5, figsize=(10,10))\n",
    "#plt.xticks(rotation=90)\n",
    "ax.set_ylabel(\"Number of appearances\", fontsize=14)\n",
    "ax.set_xlabel(\"Words\", fontsize=14)\n",
    "ax.set_title('Word appearances',fontsize=18)\n",
    "x_offset = -0.5\n",
    "y_offset = 2\n",
    "for p in ax.patches:\n",
    "    b = p.get_bbox()\n",
    "    val = \"{}\".format(b.y1 + b.y0)      \n",
    "    ax.annotate(str(p.get_height()), (p.get_x() , p.get_height()),  (b.x1 +0.2+ x_offset, b.y1 +30+ y_offset))\n",
    "plt.savefig(folder+'keywordcount2.pdf')"
   ]
  },
  {
   "cell_type": "code",
   "execution_count": 77,
   "metadata": {},
   "outputs": [],
   "source": [
    "# Keyword Count per day"
   ]
  },
  {
   "cell_type": "code",
   "execution_count": 81,
   "metadata": {},
   "outputs": [],
   "source": [
    "#group by date (again) \n",
    "df1_grouped = dfa.groupby('just_date')\n"
   ]
  },
  {
   "cell_type": "code",
   "execution_count": 82,
   "metadata": {},
   "outputs": [],
   "source": [
    "worddatecounts=[]\n",
    "for i in wordlist:\n",
    "    for group_date, df_group in df1_grouped:\n",
    "        counts = df_group['text'].str.contains(str(i), na=False).sum()\n",
    "        worddatecounts.append((str(i)+' // '+ str(group_date)+' -- '+ str(counts)))\n",
    "        #print (str(i)+' '+ str(group_date)+' -- '+ str(counts))"
   ]
  },
  {
   "cell_type": "code",
   "execution_count": null,
   "metadata": {},
   "outputs": [],
   "source": [
    "numwordsday=pd.DataFrame(\n",
    "    {'word': worddatecounts})\n",
    "\n",
    "numwordsday"
   ]
  },
  {
   "cell_type": "code",
   "execution_count": null,
   "metadata": {},
   "outputs": [],
   "source": [
    "new = numwordsday[\"word\"].str.split(\" -- \", n = 1, expand = True)\n",
    "numwordsday[\"rest\"]= new[0]\n",
    "numwordsday[\"other\"]= new[1]\n",
    "new = numwordsday[\"rest\"].str.split(\" // \", n = 1, expand = True)\n",
    "numwordsday[\"key\"]= new[0]\n",
    "numwordsday[\"date\"]= new[1]\n",
    "numwordsday.drop(columns =[\"word\"], inplace = True)\n",
    "numwordsday.drop(columns =[\"rest\"], inplace = True)\n",
    "numwordsday=numwordsday.rename(columns={\"key\":\"Word\",\"date\":\"Date\", \"other\": \"Count\"}, errors=\"raise\")\n",
    "numwordsday = numwordsday[['Word', 'Date', 'Count']]\n",
    "numwordsday[\"Count\"] = pd.to_numeric(numwordsday[\"Count\"])\n",
    "numwordsday['Date']= pd.to_datetime(numwordsday[\"Date\"]).dt.date\n",
    "numwordsday"
   ]
  },
  {
   "cell_type": "code",
   "execution_count": null,
   "metadata": {},
   "outputs": [],
   "source": [
    "numwordsday['Date'].unique()"
   ]
  },
  {
   "cell_type": "code",
   "execution_count": 92,
   "metadata": {},
   "outputs": [],
   "source": [
    "numwordsday1 = numwordsday.pivot(index='Date', columns='Word', values='Count')"
   ]
  },
  {
   "cell_type": "code",
   "execution_count": null,
   "metadata": {},
   "outputs": [],
   "source": [
    "#cmap = ['blue','red','black','purple','green','cyan','orange', 'brown']\n",
    "numwordsday1.plot.bar(\n",
    "    stacked=True, \n",
    "    width=0.5,\n",
    "    #color=cmap, \n",
    "    figsize=(20,10) \n",
    "    ,rot=60\n",
    "    )\n",
    "plt.savefig(folder+'keyworddatestack.pdf')"
   ]
  },
  {
   "cell_type": "code",
   "execution_count": null,
   "metadata": {},
   "outputs": [],
   "source": [
    "numwordsday1.plot(\n",
    "    #stacked=True, \n",
    "    #color=cmap, \n",
    "    figsize=(20,10) \n",
    "    ,rot=60\n",
    "    , style='-o'\n",
    "    )\n",
    "\n",
    "plt.savefig(folder+'keyworddatesline.pdf')"
   ]
  },
  {
   "cell_type": "markdown",
   "metadata": {},
   "source": [
    "# Clean Retweets"
   ]
  },
  {
   "cell_type": "code",
   "execution_count": 103,
   "metadata": {},
   "outputs": [
    {
     "name": "stdout",
     "output_type": "stream",
     "text": [
      "total of tweets = 45178 Without RT= 10472\n"
     ]
    }
   ],
   "source": [
    "\n",
    "dfNORT=dfa[~dfa.text.str.contains(\"RT @\")]\n",
    "\n",
    "print(\"total of tweets = \"+str(len(dfa))+\" Without RT= \"+ str(len(dfNORT)))"
   ]
  },
  {
   "cell_type": "code",
   "execution_count": null,
   "metadata": {},
   "outputs": [],
   "source": [
    "print(dfNORT.dtypes)"
   ]
  }
 ],
 "metadata": {
  "kernelspec": {
   "display_name": "Python 3.8.6 64-bit",
   "language": "python",
   "name": "python3"
  },
  "language_info": {
   "codemirror_mode": {
    "name": "ipython",
    "version": 3
   },
   "file_extension": ".py",
   "mimetype": "text/x-python",
   "name": "python",
   "nbconvert_exporter": "python",
   "pygments_lexer": "ipython3",
   "version": "3.8.6"
  },
  "orig_nbformat": 4,
  "vscode": {
   "interpreter": {
    "hash": "110707b9d723e1c444c54a483b1f1584fb109b164cd3977d8615832db624a1d7"
   }
  }
 },
 "nbformat": 4,
 "nbformat_minor": 2
}
